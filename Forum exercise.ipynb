{
 "cells": [
  {
   "cell_type": "code",
   "execution_count": 3,
   "metadata": {
    "tags": []
   },
   "outputs": [
    {
     "name": "stdout",
     "output_type": "stream",
     "text": [
      "31400.0\n"
     ]
    }
   ],
   "source": [
    "#1. Write a Python program which accepts the radius of a circle from the user and compute the area\n",
    "radius = eval(input('Radius of your circle : '))\n",
    "pi = 3.14\n",
    "area = pi * radius * radius\n",
    "print(area)"
   ]
  },
  {
   "cell_type": "code",
   "execution_count": 5,
   "metadata": {},
   "outputs": [
    {
     "name": "stdout",
     "output_type": "stream",
     "text": [
      "matthew jeff\n"
     ]
    }
   ],
   "source": [
    "#2. Write a Python program which accepts the user's first and last name and print them in reverse order with a space between them\n",
    "first = input(\"Your first name : \")\n",
    "last = input('Your last name : ')\n",
    "print(last + ' ' + first)"
   ]
  },
  {
   "cell_type": "code",
   "execution_count": 6,
   "metadata": {},
   "outputs": [
    {
     "name": "stdout",
     "output_type": "stream",
     "text": [
      "Red\n",
      "Black\n"
     ]
    }
   ],
   "source": [
    "#3. Write a Python program to display the first and last colors from the following list.\n",
    "color_list = [\"Red\",\"Green\",\"White\",\"Black\"]\n",
    "print(color_list[0])\n",
    "print(color_list[-1])"
   ]
  },
  {
   "cell_type": "code",
   "execution_count": 7,
   "metadata": {},
   "outputs": [
    {
     "name": "stdout",
     "output_type": "stream",
     "text": [
      "246\n"
     ]
    }
   ],
   "source": [
    "#4. Write a Python program that accepts an integer (n) and computes the value of n+nn+nnn\n",
    "n = int(input(\"Your number : \"))\n",
    "first = int('%s' % n)\n",
    "second = int('%s%s' % (n, n))\n",
    "third = int('%s%s%s' % (n, n, n))\n",
    "print(first + second + third)\n"
   ]
  },
  {
   "cell_type": "code",
   "execution_count": 8,
   "metadata": {},
   "outputs": [
    {
     "name": "stdout",
     "output_type": "stream",
     "text": [
      "904.3199999999999\n"
     ]
    }
   ],
   "source": [
    "#5. Write a Python program to get the volume of a sphere with radius 6. The volume of the sphere is : V = 4/3 × π × r3 = π × d3/6.\n",
    "radius = 6\n",
    "pi = 3.14\n",
    "print(4/3 * pi * (radius ** 3))"
   ]
  },
  {
   "cell_type": "code",
   "execution_count": 10,
   "metadata": {},
   "outputs": [
    {
     "name": "stdout",
     "output_type": "stream",
     "text": [
      "13\n"
     ]
    }
   ],
   "source": [
    "#6. Write a Python program to get the difference between a given number and 17, if the number is greater than 17 return double the absolute difference.\n",
    "number = eval(input(\"Your number : \"))\n",
    "if number > 17:\n",
    "    print(((number - 17) * 2))\n",
    "else:\n",
    "    print(17 - number)"
   ]
  },
  {
   "cell_type": "code",
   "execution_count": 1,
   "metadata": {},
   "outputs": [
    {
     "name": "stdout",
     "output_type": "stream",
     "text": [
      "58\n"
     ]
    }
   ],
   "source": [
    "#7. Write a Python program to calculate the sum of three given numbers, if the values are equal then return thrice of their sum.\n",
    "first = eval(input('First number : '))\n",
    "second = eval(input('Sec number : '))\n",
    "third = eval(input('Third number : '))\n",
    "sumnum = first + second + third\n",
    "\n",
    "if first == second == third:\n",
    "    print(3*sumnum)\n",
    "else:\n",
    "    print(sumnum)\n"
   ]
  },
  {
   "cell_type": "code",
   "execution_count": 22,
   "metadata": {},
   "outputs": [
    {
     "name": "stdout",
     "output_type": "stream",
     "text": [
      "Your number is odd\n"
     ]
    }
   ],
   "source": [
    "#8 . Write a Python program to find whether a given number (accept from the user) is even or odd, print out an appropriate message to the user\n",
    "number = eval(input('Your number : '))\n",
    "if number == 0:\n",
    "    print('Your number is 0')\n",
    "elif number % 2 == 0:\n",
    "    print('Your number is even')\n",
    "else:\n",
    "    print('Your number is odd')"
   ]
  },
  {
   "cell_type": "code",
   "execution_count": 31,
   "metadata": {},
   "outputs": [
    {
     "name": "stdout",
     "output_type": "stream",
     "text": [
      "Your letter is a consonant\n"
     ]
    }
   ],
   "source": [
    "#9. Write a Python program to test whether a letter is a vowel or not\n",
    "word = input('Your letter : ')\n",
    "if word == 'a' or word == 'A' or word == 'i' or word == 'I' or word == 'o' or word == 'O' or word == 'e' or word == 'E' or word == 'u' or word == 'U':\n",
    "    print('Your letter is a vowel')\n",
    "else:\n",
    "    print('Your letter is a consonant')"
   ]
  },
  {
   "cell_type": "code",
   "execution_count": null,
   "metadata": {},
   "outputs": [],
   "source": [
    "#10.Write a Python program to check whether a specified value is contained in a group of values.\n",
    "group = [1, 2, 3, 4, 5, 6, 7, 8]\n",
    "value = eval(input('Your value : '))\n",
    "if value in group\n",
    "    print('your value is in the group')\n",
    "else:\n",
    "    print('Your value is not in the group')"
   ]
  },
  {
   "cell_type": "code",
   "execution_count": null,
   "metadata": {},
   "outputs": [],
   "source": [
    "#11. Write a Python program to create a histogram from a given list of integers\n"
   ]
  },
  {
   "cell_type": "code",
   "execution_count": null,
   "metadata": {},
   "outputs": [],
   "source": [
    "#12. Write a Python program to print all even numbers from a given numbers list in the same order\n"
   ]
  },
  {
   "cell_type": "code",
   "execution_count": 32,
   "metadata": {},
   "outputs": [
    {
     "name": "stdout",
     "output_type": "stream",
     "text": [
      "72.0\n"
     ]
    }
   ],
   "source": [
    "#13. Write a Python program that will accept the base and height of a triangle and compute the area.\n",
    "base = eval(input('input base : '))\n",
    "height = eval(input('input height : '))\n",
    "area = 1/2 * height * base\n",
    "print(area)"
   ]
  },
  {
   "cell_type": "code",
   "execution_count": null,
   "metadata": {},
   "outputs": [],
   "source": [
    "#14. Write a Python program to get the least common multiple (LCM) of two positive integers.\n"
   ]
  },
  {
   "cell_type": "code",
   "execution_count": 34,
   "metadata": {},
   "outputs": [
    {
     "name": "stdout",
     "output_type": "stream",
     "text": [
      "0\n"
     ]
    }
   ],
   "source": [
    "#15. Write a Python program to sum of three given integers. However, if two values are equal sum will be zero.\n",
    "first = eval(input('First num : '))\n",
    "sec = eval(input('Sec num : '))\n",
    "third = eval(input('Third num : '))\n",
    "if first == sec:\n",
    "    print(0)\n",
    "elif sec == third:\n",
    "    print(0)\n",
    "elif first == third:\n",
    "    print(0)\n",
    "else:\n",
    "    print(first + sec + third)"
   ]
  },
  {
   "cell_type": "code",
   "execution_count": 35,
   "metadata": {},
   "outputs": [
    {
     "name": "stdout",
     "output_type": "stream",
     "text": [
      "900\n"
     ]
    }
   ],
   "source": [
    "#16. Write a Python program to solve (x + y) * (x + y)\n",
    "x = eval(input('x = '))\n",
    "y = eval(input('y = '))\n",
    "output = (x + y) * (x + y)\n",
    "print(output)"
   ]
  },
  {
   "cell_type": "code",
   "execution_count": 37,
   "metadata": {},
   "outputs": [
    {
     "name": "stdout",
     "output_type": "stream",
     "text": [
      "12722.792627665729\n"
     ]
    }
   ],
   "source": [
    "#17. Write a Python program to compute the future value of a specified principal amount, rate of interest, and a number of years.\n",
    "amt = eval(input('input amount : '))\n",
    "int = eval(input('Interest : '))\n",
    "years = eval(input('Years : '))\n",
    "fv = amt * (1 + 0.01 * int) ** years\n",
    "print(fv)"
   ]
  },
  {
   "cell_type": "code",
   "execution_count": 42,
   "metadata": {},
   "outputs": [
    {
     "name": "stdout",
     "output_type": "stream",
     "text": [
      "8.602325267042627\n"
     ]
    }
   ],
   "source": [
    "#18. Write a Python program to compute the distance between the points (x1, y1) and (x2, y2).\n",
    "one = [12, 11]\n",
    "two = [5, 6]\n",
    "distance = (((one[0] - two[0])**2) + ((one[1] - two[1]))**2) ** 0.5\n",
    "print(distance)"
   ]
  },
  {
   "cell_type": "code",
   "execution_count": null,
   "metadata": {},
   "outputs": [],
   "source": [
    "#19. Write a python program to sum of the first n positive integers."
   ]
  },
  {
   "cell_type": "code",
   "execution_count": 48,
   "metadata": {},
   "outputs": [
    {
     "name": "stdout",
     "output_type": "stream",
     "text": [
      "YOUR HEIGHT IN CM IS 175.26 cm\n"
     ]
    }
   ],
   "source": [
    "#20. Write a Python program to convert height (in feet and inches) to centimeters.\n",
    "feet = eval(input(\"Height in Feet : \"))\n",
    "inches = eval(input(\"Height in Inches : \"))\n",
    "height = (12*feet)+inches\n",
    "cm = height * 2.54\n",
    "print('YOUR HEIGHT IN CM IS ' + str(cm) + ' cm')"
   ]
  },
  {
   "cell_type": "code",
   "execution_count": 49,
   "metadata": {},
   "outputs": [
    {
     "name": "stdout",
     "output_type": "stream",
     "text": [
      "5.0\n"
     ]
    }
   ],
   "source": [
    "#21. Write a Python program to calculate the hypotenuse of a right angled triangle.\n",
    "a = eval(input(\"1st leg length : \"))\n",
    "b = eval(input('2nd leg length : '))\n",
    "c = ((a**2) + (b**2))**0.5\n",
    "print(c)"
   ]
  },
  {
   "cell_type": "code",
   "execution_count": 56,
   "metadata": {},
   "outputs": [
    {
     "name": "stdout",
     "output_type": "stream",
     "text": [
      "Your body mass index is : 25.969529085872576\n"
     ]
    }
   ],
   "source": [
    "#22. Write a Python program to calculate body mass index\n",
    "weight = eval(input('Your weight in kg : '))\n",
    "height = eval(input('Your height in cm : '))\n",
    "heightm = height/100\n",
    "bmi = weight/(heightm**2)\n",
    "print('Your body mass index is : ' + str(bmi))"
   ]
  },
  {
   "cell_type": "code",
   "execution_count": 59,
   "metadata": {},
   "outputs": [
    {
     "name": "stdout",
     "output_type": "stream",
     "text": [
      "( 7.0 , 3.0 )\n"
     ]
    }
   ],
   "source": [
    "#23. Write a Python program to calculate midpoints of a line.\n",
    "xone = eval(input('x1 = '))\n",
    "xtwo = eval(input('x2 = '))\n",
    "yone = eval(input('y1 = '))\n",
    "ytwo = eval(input('y2 = '))\n",
    "midpointx = (xone + xtwo)/2\n",
    "midpointy = (yone + ytwo)/2\n",
    "print('(', midpointx, ',',  midpointy, ')')"
   ]
  },
  {
   "cell_type": "code",
   "execution_count": 2,
   "metadata": {},
   "outputs": [
    {
     "name": "stdout",
     "output_type": "stream",
     "text": [
      "['2002', '2009', '2016', '2023', '2037', '2044', '2051', '2058', '2072', '2079', '2086', '2093', '2107', '2114', '2121', '2128', '2142', '2149', '2156', '2163', '2177', '2184', '2191', '2198', '2212', '2219', '2226', '2233', '2247', '2254', '2261', '2268', '2282', '2289', '2296', '2303', '2317', '2324', '2331', '2338', '2352', '2359', '2366', '2373', '2387', '2394', '2401', '2408', '2422', '2429', '2436', '2443', '2457', '2464', '2471', '2478', '2492', '2499', '2506', '2513', '2527', '2534', '2541', '2548', '2562', '2569', '2576', '2583', '2597', '2604', '2611', '2618', '2632', '2639', '2646', '2653', '2667', '2674', '2681', '2688', '2702', '2709', '2716', '2723', '2737', '2744', '2751', '2758', '2772', '2779', '2786', '2793', '2807', '2814', '2821', '2828', '2842', '2849', '2856', '2863', '2877', '2884', '2891', '2898', '2912', '2919', '2926', '2933', '2947', '2954', '2961', '2968', '2982', '2989', '2996', '3003', '3017', '3024', '3031', '3038', '3052', '3059', '3066', '3073', '3087', '3094', '3101', '3108', '3122', '3129', '3136', '3143', '3157', '3164', '3171', '3178', '3192', '3199']\n"
     ]
    }
   ],
   "source": [
    "#24. Write a program which will find all such numbers which are divisible by 7 but are not a multiple of 5, between 2000 and 3200 (both included). The numbers obtained should be printed in a comma-separated sequence on a single line.\n",
    "number = []\n",
    "for i in range (2000, 3200):\n",
    "    if i%7 == 0 and i%5 != 0:\n",
    "        number.append(str(i))\n",
    "print(number, sep=',')"
   ]
  }
 ],
 "metadata": {
  "kernelspec": {
   "display_name": "Python 3.10.7 64-bit",
   "language": "python",
   "name": "python3"
  },
  "language_info": {
   "codemirror_mode": {
    "name": "ipython",
    "version": 3
   },
   "file_extension": ".py",
   "mimetype": "text/x-python",
   "name": "python",
   "nbconvert_exporter": "python",
   "pygments_lexer": "ipython3",
   "version": "3.10.7"
  },
  "orig_nbformat": 4,
  "vscode": {
   "interpreter": {
    "hash": "fb0459311c136b57316522f61c9a142e6529cd8f5d0e0e713ab11b75c5051d95"
   }
  }
 },
 "nbformat": 4,
 "nbformat_minor": 2
}
